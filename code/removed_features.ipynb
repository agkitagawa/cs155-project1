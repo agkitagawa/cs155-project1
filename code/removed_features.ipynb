{
 "cells": [
  {
   "cell_type": "code",
   "execution_count": 28,
   "metadata": {},
   "outputs": [],
   "source": [
    "import numpy as np\n",
    "from sklearn.linear_model import LogisticRegression, Ridge\n",
    "from sklearn.tree import DecisionTreeClassifier\n",
    "from sklearn.ensemble import RandomForestClassifier\n",
    "from sklearn.metrics import accuracy_score\n",
    "from sklearn.model_selection import KFold\n",
    "from matplotlib import pyplot as plt\n",
    "from tqdm import tqdm\n",
    "\n",
    "import warnings\n",
    "warnings.filterwarnings(\"ignore\")"
   ]
  },
  {
   "cell_type": "code",
   "execution_count": 29,
   "metadata": {},
   "outputs": [
    {
     "name": "stdout",
     "output_type": "stream",
     "text": [
      "['customerID', 'gender', 'SeniorCitizen', 'Partner', 'Dependents', 'tenure', 'PhoneService', 'MultipleLines', 'InternetService', 'OnlineSecurity', 'OnlineBackup', 'DeviceProtection', 'TechSupport', 'StreamingTV', 'StreamingMovies', 'Contract', 'PaperlessBilling', 'PaymentMethod', 'MonthlyCharges', 'TotalCharges', 'Discontinued']\n",
      "['customerID', 'gender', 'SeniorCitizen', 'Partner', 'Dependents', 'tenure', 'PhoneService', 'InternetService', 'OnlineBackup', 'DeviceProtection', 'StreamingTV', 'StreamingMovies', 'Contract', 'PaperlessBilling', 'PaymentMethod', 'MonthlyCharges', 'TotalCharges', 'Discontinued']\n",
      "(5344, 18) (1701, 17)\n",
      "(5343, 16) (1700, 16)\n"
     ]
    }
   ],
   "source": [
    "# Data file paths\n",
    "train_raw_path, test_raw_path = r'..\\data\\train_raw.csv', r'..\\data\\test_raw.csv'\n",
    "train_path, test_path = r'..\\data\\train.csv', r'..\\data\\test.csv'\n",
    "\n",
    "# Open csv files\n",
    "train_raw_data = np.loadtxt(train_raw_path, dtype='str', delimiter=',', unpack=True).T\n",
    "test_raw_data = np.loadtxt(test_raw_path, dtype='str', delimiter=',', unpack=True).T\n",
    "\n",
    "print(list(train_raw_data[0]))\n",
    "remove_features = [6, 8, 11]\n",
    "i = 0\n",
    "for rf in remove_features:\n",
    "    train_raw_data = np.delete(train_raw_data, obj=rf-i+1, axis=1)\n",
    "    test_raw_data = np.delete(test_raw_data, obj=rf-i+1, axis=1)\n",
    "    i += 1\n",
    "\n",
    "print(list(train_raw_data[0]))\n",
    "print(train_raw_data.shape, test_raw_data.shape)\n",
    "\n",
    "N_train, N_test = train_raw_data.shape[0] - 1, test_raw_data.shape[0] - 1\n",
    "num_features = train_raw_data.shape[1] - 2\n",
    "\n",
    "# Initialize arrays for train and test data\n",
    "train_X, train_Y = np.zeros((N_train, train_raw_data.shape[1] - 2)), np.zeros((N_train, 1))\n",
    "test_X = np.zeros((N_test, test_raw_data.shape[1] - 1))\n",
    "\n",
    "print(train_X.shape, test_X.shape)"
   ]
  },
  {
   "cell_type": "code",
   "execution_count": 30,
   "metadata": {},
   "outputs": [
    {
     "ename": "KeyError",
     "evalue": "'Month-to-month'",
     "output_type": "error",
     "traceback": [
      "\u001b[1;31m---------------------------------------------------------------------------\u001b[0m",
      "\u001b[1;31mKeyError\u001b[0m                                  Traceback (most recent call last)",
      "Cell \u001b[1;32mIn[30], line 24\u001b[0m\n\u001b[0;32m     22\u001b[0m \u001b[38;5;28;01mfor\u001b[39;00m j \u001b[38;5;129;01min\u001b[39;00m \u001b[38;5;28mrange\u001b[39m(num_features):\n\u001b[0;32m     23\u001b[0m     \u001b[38;5;28;01mif\u001b[39;00m j \u001b[38;5;129;01min\u001b[39;00m formats\u001b[38;5;241m.\u001b[39mkeys():\n\u001b[1;32m---> 24\u001b[0m         train_x[j] \u001b[38;5;241m=\u001b[39m \u001b[43mformats\u001b[49m\u001b[43m[\u001b[49m\u001b[43mj\u001b[49m\u001b[43m]\u001b[49m\u001b[43m[\u001b[49m\u001b[43mtrain_raw_x\u001b[49m\u001b[43m[\u001b[49m\u001b[43mj\u001b[49m\u001b[43m]\u001b[49m\u001b[43m]\u001b[49m\n\u001b[0;32m     25\u001b[0m     \u001b[38;5;28;01melse\u001b[39;00m:\n\u001b[0;32m     26\u001b[0m         \u001b[38;5;28;01mif\u001b[39;00m j \u001b[38;5;241m==\u001b[39m \u001b[38;5;241m18\u001b[39m \u001b[38;5;129;01mand\u001b[39;00m \u001b[38;5;129;01mnot\u001b[39;00m train_raw_x[j]:              \u001b[38;5;66;03m# If 'Total Charges' missing, calculate from 'tenure' and 'Monthly Charges'\u001b[39;00m\n",
      "\u001b[1;31mKeyError\u001b[0m: 'Month-to-month'"
     ]
    }
   ],
   "source": [
    "formats = \\\n",
    "{\n",
    "    0:  {'Female': 0, 'Male': 1},\n",
    "    2:  {'No': 0, 'Yes': 1},\n",
    "    3:  {'No': 0, 'Yes': 1},\n",
    "    5:  {'No': 0, 'Yes': 1},\n",
    "    6:  {'No': 0, 'DSL': 1, 'Fiber optic': 2},\n",
    "    7:  {'No internet service': 0, 'No': 1, 'Yes': 2},\n",
    "    8:  {'No internet service': 0, 'No': 1, 'Yes': 2},\n",
    "    9:  {'No internet service': 0, 'No': 1, 'Yes': 2},\n",
    "    10: {'No internet service': 0, 'No': 1, 'Yes': 2},\n",
    "    11: {'No internet service': 0, 'No': 1, 'Yes': 2},\n",
    "    12: {'Month-to-month': 0, 'One year': 1, 'Two year': 2},\n",
    "    13: {'No': 0, 'Yes': 1},\n",
    "    14: {'Mailed check': 0, 'Bank transfer (automatic)': 1, 'Electronic check': 2, 'Credit card (automatic)': 3},\n",
    "}\n",
    "\n",
    "for i in range(N_train):\n",
    "    train_raw_x, train_raw_y = train_raw_data[i+1, 1:-1], train_raw_data[i+1, -1]\n",
    "    \n",
    "    train_x = np.zeros((num_features))\n",
    "    for j in range(num_features):\n",
    "        if j in formats.keys():\n",
    "            train_x[j] = formats[j][train_raw_x[j]]\n",
    "        else:\n",
    "            if j == 18 and not train_raw_x[j]:              # If 'Total Charges' missing, calculate from 'tenure' and 'Monthly Charges'\n",
    "                train_x[j] = train_x[4] * train_x[17]  \n",
    "            else:\n",
    "                train_x[j] = eval(train_raw_x[j])\n",
    "    \n",
    "    train_y = 1 if train_raw_y == 'Yes' else 0\n",
    "    \n",
    "    \n",
    "    train_X[i], train_Y[i] = train_x, train_y\n",
    "\n",
    "for i in range(N_test):\n",
    "    test_raw_x = test_raw_data[i+1, 1:]\n",
    "    \n",
    "    test_x = np.zeros((num_features))\n",
    "    for j in range(num_features):\n",
    "        if j in formats.keys():\n",
    "            test_x[j] = formats[j][test_raw_x[j]]\n",
    "        else:\n",
    "            if j == 18 and not test_raw_x[j]:              # If 'Total Charges' missing, calculate from 'tenure' and 'Monthly Charges'\n",
    "                test_x[j] = test_x[4] * test_x[17]  \n",
    "            else:\n",
    "                test_x[j] = eval(test_raw_x[j])\n",
    "            \n",
    "    test_X[i] = test_x"
   ]
  }
 ],
 "metadata": {
  "kernelspec": {
   "display_name": "venv",
   "language": "python",
   "name": "python3"
  },
  "language_info": {
   "codemirror_mode": {
    "name": "ipython",
    "version": 3
   },
   "file_extension": ".py",
   "mimetype": "text/x-python",
   "name": "python",
   "nbconvert_exporter": "python",
   "pygments_lexer": "ipython3",
   "version": "3.10.11"
  }
 },
 "nbformat": 4,
 "nbformat_minor": 2
}
