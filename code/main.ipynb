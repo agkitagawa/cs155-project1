{
 "cells": [
  {
   "cell_type": "markdown",
   "metadata": {},
   "source": [
    "## Load and Normalize Data"
   ]
  },
  {
   "cell_type": "code",
   "execution_count": 113,
   "metadata": {},
   "outputs": [],
   "source": [
    "import numpy as np"
   ]
  },
  {
   "cell_type": "code",
   "execution_count": 121,
   "metadata": {},
   "outputs": [],
   "source": [
    "# Data file paths\n",
    "train_raw_path, test_raw_path = r'..\\data\\train_raw.csv', r'..\\data\\test_raw.csv'\n",
    "train_path, test_path = r'..\\data\\train.csv', r'..\\data\\test.csv'\n",
    "\n",
    "# Open csv files\n",
    "train_raw_data = np.loadtxt(train_raw_path, dtype='str', delimiter=',', unpack=True).T\n",
    "test_raw_data = np.loadtxt(test_raw_path, dtype='str', delimiter=',', unpack=True).T\n",
    "\n",
    "N_train, N_test = train_raw_data.shape[0] - 1, test_raw_data.shape[0] - 1\n",
    "num_features = train_raw_data.shape[1] - 2\n",
    "\n",
    "# Initialize arrays for train and test data\n",
    "train_X, train_Y = np.zeros((N_train, train_raw_data.shape[1] - 2)), np.zeros((N_train, 1))\n",
    "test_X, test_Y = np.zeros((N_test, test_raw_data.shape[1] - 1)), np.zeros((N_test, 1))"
   ]
  },
  {
   "cell_type": "code",
   "execution_count": 143,
   "metadata": {},
   "outputs": [],
   "source": [
    "normalizations = \\\n",
    "{\n",
    "    0:  {'Female': 0, 'Male': 1},\n",
    "    2:  {'No': 0, 'Yes': 1},\n",
    "    3:  {'No': 0, 'Yes': 1},\n",
    "    5:  {'No': 0, 'Yes': 1},\n",
    "    6:  {'No phone service': 0, 'No': 1, 'Yes': 2},\n",
    "    7:  {'No': 0, 'DSL': 1, 'Fiber optic': 2},\n",
    "    8:  {'No internet service': 0, 'No': 1, 'Yes': 2},\n",
    "    9:  {'No internet service': 0, 'No': 1, 'Yes': 2},\n",
    "    10: {'No internet service': 0, 'No': 1, 'Yes': 2},\n",
    "    11: {'No internet service': 0, 'No': 1, 'Yes': 2},\n",
    "    12: {'No internet service': 0, 'No': 1, 'Yes': 2},\n",
    "    13: {'No internet service': 0, 'No': 1, 'Yes': 2},\n",
    "    14: {'Month-to-month': 0, 'One year': 1, 'Two year': 2},\n",
    "    15: {'No': 0, 'Yes': 1},\n",
    "    16: {'Mailed check': 0, 'Bank transfer (automatic)': 1, 'Electronic check': 2, 'Credit card (automatic)': 3},\n",
    "}\n",
    "\n",
    "for i in range(N_train):\n",
    "    train_raw_x, train_raw_y = train_raw_data[i+1, 1:-1], train_raw_data[i+1, -1]\n",
    "    \n",
    "    train_x = np.zeros((num_features))\n",
    "    for j in range(num_features):\n",
    "        if j in normalizations.keys():\n",
    "            train_x[j] = normalizations[j][train_raw_x[j]]\n",
    "        else:\n",
    "            if j == 18 and not train_raw_x[j]:              # If 'Total Charges' missing, calculate from 'tenure' and 'Monthly Charges'\n",
    "                train_x[j] = train_x[4] * train_x[17]  \n",
    "            else:\n",
    "                train_x[j] = eval(train_raw_x[j])\n",
    "    \n",
    "    train_y = 1 if train_raw_y == 'Yes' else 0\n",
    "    \n",
    "    \n",
    "    train_X[i], train_Y[i] = train_x, train_y\n",
    "\n",
    "for i in range(N_test):\n",
    "    test_raw_x = test_raw_data[i+1, 1:]\n",
    "    \n",
    "    test_x = np.zeros((num_features))\n",
    "    for j in range(num_features):\n",
    "        if j in normalizations.keys():\n",
    "            test_x[j] = normalizations[j][test_raw_x[j]]\n",
    "        else:\n",
    "            if j == 18 and not test_raw_x[j]:              # If 'Total Charges' missing, calculate from 'tenure' and 'Monthly Charges'\n",
    "                test_x[j] = test_x[4] * test_x[17]  \n",
    "            else:\n",
    "                test_x[j] = eval(test_raw_x[j])\n",
    "            \n",
    "    test_X[i] = test_x"
   ]
  }
 ],
 "metadata": {
  "kernelspec": {
   "display_name": "Python 3",
   "language": "python",
   "name": "python3"
  },
  "language_info": {
   "codemirror_mode": {
    "name": "ipython",
    "version": 3
   },
   "file_extension": ".py",
   "mimetype": "text/x-python",
   "name": "python",
   "nbconvert_exporter": "python",
   "pygments_lexer": "ipython3",
   "version": "3.10.11"
  }
 },
 "nbformat": 4,
 "nbformat_minor": 2
}
